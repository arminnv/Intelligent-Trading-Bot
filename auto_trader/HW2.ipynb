{
 "cells": [
  {
   "cell_type": "markdown",
   "metadata": {
    "collapsed": true,
    "pycharm": {
     "name": "#%% md\n"
    }
   },
   "source": [
    "### 1.\n",
    "prove that HH matrix is an orthogonal matrix.\n",
    "\n",
    "$$H^T = H$$\n",
    "$$HH^T = HH = (1 - \\frac{2vv^T}{v^Tv})(1 - \\frac{2vv^T}{v^Tv}) = I$$\n",
    "since $HH^T = I$ we can conclude that H is orthogonal.\n",
    "\n",
    "\n",
    "\n",
    "### 2.\n",
    "if $\\textbf{Q}\\textbf{Q}{^T}={I}$ show that:$||Q \\textbf x ||=||\\textbf x ||$\n",
    "\n",
    "$${||Q x ||}{^2} = {(Q x)}{^T} Q x = {x}^{T} {Q}^{T} Q x = {x}^T x = {||x||}^2$$"
   ]
  },
  {
   "cell_type": "markdown",
   "source": [],
   "metadata": {
    "collapsed": false
   }
  }
 ],
 "metadata": {
  "kernelspec": {
   "display_name": "Python 3",
   "language": "python",
   "name": "python3"
  },
  "language_info": {
   "codemirror_mode": {
    "name": "ipython",
    "version": 2
   },
   "file_extension": ".py",
   "mimetype": "text/x-python",
   "name": "python",
   "nbconvert_exporter": "python",
   "pygments_lexer": "ipython2",
   "version": "2.7.6"
  }
 },
 "nbformat": 4,
 "nbformat_minor": 0
}